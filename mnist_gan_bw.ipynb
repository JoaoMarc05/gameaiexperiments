{
 "cells": [
  {
   "cell_type": "markdown",
   "metadata": {},
   "source": [
    "## TODO Test CNN network\n",
    "## Change random sampler to Gaussian distribution\n",
    "## Experiment with https://github.com/soumith/ganhacks hints"
   ]
  },
  {
   "cell_type": "code",
   "execution_count": 1,
   "metadata": {},
   "outputs": [
    {
     "name": "stderr",
     "output_type": "stream",
     "text": [
      "Using TensorFlow backend.\n"
     ]
    }
   ],
   "source": [
    "import os,random\n",
    "import numpy as np\n",
    "from keras.utils import np_utils\n",
    "import keras.models as models\n",
    "from keras.layers import Input,merge\n",
    "from keras.layers.core import Reshape,Dense,Dropout,Activation,Flatten\n",
    "from keras.layers.advanced_activations import LeakyReLU\n",
    "from keras.activations import *\n",
    "from keras.layers.wrappers import TimeDistributed\n",
    "from keras.layers.noise import GaussianNoise\n",
    "from keras.layers import Conv2D, MaxPooling2D, ZeroPadding2D, UpSampling2D\n",
    "from keras.losses import categorical_crossentropy\n",
    "from keras import backend as K\n",
    "\n",
    "from keras.regularizers import *\n",
    "from keras.layers.normalization import *\n",
    "from keras.optimizers import *\n",
    "from keras.datasets import mnist\n",
    "import matplotlib.pyplot as plt\n",
    "import random, sys, keras\n",
    "from keras.models import Model, Sequential\n",
    "from IPython.display import SVG, display\n",
    "from keras.utils.vis_utils import model_to_dot\n",
    "from keras.utils import np_utils\n",
    "from tqdm import tqdm\n",
    "from sklearn.utils import shuffle\n"
   ]
  },
  {
   "cell_type": "code",
   "execution_count": 2,
   "metadata": {
    "collapsed": true
   },
   "outputs": [],
   "source": [
    "os.environ[\"CUDA_VISIBLE_DEVICES\"]=\"1\" #On rd010532 0 = Tesla, 1 = Quadro"
   ]
  },
  {
   "cell_type": "code",
   "execution_count": 3,
   "metadata": {
    "collapsed": true
   },
   "outputs": [],
   "source": [
    "def draw_model_on_interactive_session(model):\n",
    "\n",
    "    display(SVG(model_to_dot(model, show_shapes=True).create(prog='dot', format='svg')))\n"
   ]
  },
  {
   "cell_type": "code",
   "execution_count": 4,
   "metadata": {},
   "outputs": [
    {
     "name": "stdout",
     "output_type": "stream",
     "text": [
      "0.0 1.0\n",
      "X_train shape: (60000, 28, 28, 1)\n",
      "60000 train samples\n",
      "10000 test samples\n"
     ]
    }
   ],
   "source": [
    "img_rows, img_cols = 28, 28\n",
    "\n",
    "# the data, shuffled and split between train and test sets\n",
    "(X_train, y_train), (X_test, y_test) = mnist.load_data()\n",
    "\n",
    "X_train = X_train.reshape(X_train.shape[0], img_rows, img_cols, 1)\n",
    "X_test = X_test.reshape(X_test.shape[0], img_rows, img_cols, 1)\n",
    "X_train = X_train.astype('float32')\n",
    "X_test = X_test.astype('float32')\n",
    "X_train /= 255\n",
    "X_test /= 255\n",
    "\n",
    "print(np.min(X_train), np.max(X_train))\n",
    "\n",
    "print('X_train shape:', X_train.shape)\n",
    "print(X_train.shape[0], 'train samples')\n",
    "print(X_test.shape[0], 'test samples')\n"
   ]
  },
  {
   "cell_type": "code",
   "execution_count": 5,
   "metadata": {},
   "outputs": [
    {
     "name": "stdout",
     "output_type": "stream",
     "text": [
      "_________________________________________________________________\n",
      "Layer (type)                 Output Shape              Param #   \n",
      "=================================================================\n",
      "dense_1 (Dense)              (None, 3136)              316736    \n",
      "_________________________________________________________________\n",
      "reshape_1 (Reshape)          (None, 56, 56, 1)         0         \n",
      "_________________________________________________________________\n",
      "conv2d_1 (Conv2D)            (None, 56, 56, 50)        500       \n",
      "_________________________________________________________________\n",
      "conv2d_2 (Conv2D)            (None, 28, 28, 25)        11275     \n",
      "_________________________________________________________________\n",
      "conv2d_3 (Conv2D)            (None, 28, 28, 1)         26        \n",
      "=================================================================\n",
      "Total params: 328,537\n",
      "Trainable params: 328,537\n",
      "Non-trainable params: 0\n",
      "_________________________________________________________________\n"
     ]
    },
    {
     "data": {
      "image/svg+xml": [
       "<svg height=\"470pt\" viewBox=\"0.00 0.00 360.00 470.00\" width=\"360pt\" xmlns=\"http://www.w3.org/2000/svg\" xmlns:xlink=\"http://www.w3.org/1999/xlink\">\n",
       "<g class=\"graph\" id=\"graph0\" transform=\"scale(1 1) rotate(0) translate(4 466)\">\n",
       "<title>G</title>\n",
       "<polygon fill=\"white\" points=\"-4,4 -4,-466 356,-466 356,4 -4,4\" stroke=\"none\"/>\n",
       "<!-- 2272831395600 -->\n",
       "<g class=\"node\" id=\"node1\"><title>2272831395600</title>\n",
       "<polygon fill=\"none\" points=\"23.5,-415.5 23.5,-461.5 328.5,-461.5 328.5,-415.5 23.5,-415.5\" stroke=\"black\"/>\n",
       "<text font-family=\"Times New Roman,serif\" font-size=\"14.00\" text-anchor=\"middle\" x=\"106.5\" y=\"-434.8\">dense_1_input: InputLayer</text>\n",
       "<polyline fill=\"none\" points=\"189.5,-415.5 189.5,-461.5 \" stroke=\"black\"/>\n",
       "<text font-family=\"Times New Roman,serif\" font-size=\"14.00\" text-anchor=\"middle\" x=\"217.5\" y=\"-446.3\">input:</text>\n",
       "<polyline fill=\"none\" points=\"189.5,-438.5 245.5,-438.5 \" stroke=\"black\"/>\n",
       "<text font-family=\"Times New Roman,serif\" font-size=\"14.00\" text-anchor=\"middle\" x=\"217.5\" y=\"-423.3\">output:</text>\n",
       "<polyline fill=\"none\" points=\"245.5,-415.5 245.5,-461.5 \" stroke=\"black\"/>\n",
       "<text font-family=\"Times New Roman,serif\" font-size=\"14.00\" text-anchor=\"middle\" x=\"287\" y=\"-446.3\">(None, 100)</text>\n",
       "<polyline fill=\"none\" points=\"245.5,-438.5 328.5,-438.5 \" stroke=\"black\"/>\n",
       "<text font-family=\"Times New Roman,serif\" font-size=\"14.00\" text-anchor=\"middle\" x=\"287\" y=\"-423.3\">(None, 100)</text>\n",
       "</g>\n",
       "<!-- 2272799698784 -->\n",
       "<g class=\"node\" id=\"node2\"><title>2272799698784</title>\n",
       "<polygon fill=\"none\" points=\"34.5,-332.5 34.5,-378.5 317.5,-378.5 317.5,-332.5 34.5,-332.5\" stroke=\"black\"/>\n",
       "<text font-family=\"Times New Roman,serif\" font-size=\"14.00\" text-anchor=\"middle\" x=\"86.5\" y=\"-351.8\">dense_1: Dense</text>\n",
       "<polyline fill=\"none\" points=\"138.5,-332.5 138.5,-378.5 \" stroke=\"black\"/>\n",
       "<text font-family=\"Times New Roman,serif\" font-size=\"14.00\" text-anchor=\"middle\" x=\"166.5\" y=\"-363.3\">input:</text>\n",
       "<polyline fill=\"none\" points=\"138.5,-355.5 194.5,-355.5 \" stroke=\"black\"/>\n",
       "<text font-family=\"Times New Roman,serif\" font-size=\"14.00\" text-anchor=\"middle\" x=\"166.5\" y=\"-340.3\">output:</text>\n",
       "<polyline fill=\"none\" points=\"194.5,-332.5 194.5,-378.5 \" stroke=\"black\"/>\n",
       "<text font-family=\"Times New Roman,serif\" font-size=\"14.00\" text-anchor=\"middle\" x=\"256\" y=\"-363.3\">(None, 100)</text>\n",
       "<polyline fill=\"none\" points=\"194.5,-355.5 317.5,-355.5 \" stroke=\"black\"/>\n",
       "<text font-family=\"Times New Roman,serif\" font-size=\"14.00\" text-anchor=\"middle\" x=\"256\" y=\"-340.3\">(None, 3136) (relu)</text>\n",
       "</g>\n",
       "<!-- 2272831395600&#45;&gt;2272799698784 -->\n",
       "<g class=\"edge\" id=\"edge1\"><title>2272831395600-&gt;2272799698784</title>\n",
       "<path d=\"M176,-415.366C176,-407.152 176,-397.658 176,-388.725\" fill=\"none\" stroke=\"black\"/>\n",
       "<polygon fill=\"black\" points=\"179.5,-388.607 176,-378.607 172.5,-388.607 179.5,-388.607\" stroke=\"black\"/>\n",
       "</g>\n",
       "<!-- 2272831543168 -->\n",
       "<g class=\"node\" id=\"node3\"><title>2272831543168</title>\n",
       "<polygon fill=\"none\" points=\"28,-249.5 28,-295.5 324,-295.5 324,-249.5 28,-249.5\" stroke=\"black\"/>\n",
       "<text font-family=\"Times New Roman,serif\" font-size=\"14.00\" text-anchor=\"middle\" x=\"92\" y=\"-268.8\">reshape_1: Reshape</text>\n",
       "<polyline fill=\"none\" points=\"156,-249.5 156,-295.5 \" stroke=\"black\"/>\n",
       "<text font-family=\"Times New Roman,serif\" font-size=\"14.00\" text-anchor=\"middle\" x=\"184\" y=\"-280.3\">input:</text>\n",
       "<polyline fill=\"none\" points=\"156,-272.5 212,-272.5 \" stroke=\"black\"/>\n",
       "<text font-family=\"Times New Roman,serif\" font-size=\"14.00\" text-anchor=\"middle\" x=\"184\" y=\"-257.3\">output:</text>\n",
       "<polyline fill=\"none\" points=\"212,-249.5 212,-295.5 \" stroke=\"black\"/>\n",
       "<text font-family=\"Times New Roman,serif\" font-size=\"14.00\" text-anchor=\"middle\" x=\"268\" y=\"-280.3\">(None, 3136)</text>\n",
       "<polyline fill=\"none\" points=\"212,-272.5 324,-272.5 \" stroke=\"black\"/>\n",
       "<text font-family=\"Times New Roman,serif\" font-size=\"14.00\" text-anchor=\"middle\" x=\"268\" y=\"-257.3\">(None, 56, 56, 1)</text>\n",
       "</g>\n",
       "<!-- 2272799698784&#45;&gt;2272831543168 -->\n",
       "<g class=\"edge\" id=\"edge2\"><title>2272799698784-&gt;2272831543168</title>\n",
       "<path d=\"M176,-332.366C176,-324.152 176,-314.658 176,-305.725\" fill=\"none\" stroke=\"black\"/>\n",
       "<polygon fill=\"black\" points=\"179.5,-305.607 176,-295.607 172.5,-305.607 179.5,-305.607\" stroke=\"black\"/>\n",
       "</g>\n",
       "<!-- 2272799697552 -->\n",
       "<g class=\"node\" id=\"node4\"><title>2272799697552</title>\n",
       "<polygon fill=\"none\" points=\"8.5,-166.5 8.5,-212.5 343.5,-212.5 343.5,-166.5 8.5,-166.5\" stroke=\"black\"/>\n",
       "<text font-family=\"Times New Roman,serif\" font-size=\"14.00\" text-anchor=\"middle\" x=\"72\" y=\"-185.8\">conv2d_1: Conv2D</text>\n",
       "<polyline fill=\"none\" points=\"135.5,-166.5 135.5,-212.5 \" stroke=\"black\"/>\n",
       "<text font-family=\"Times New Roman,serif\" font-size=\"14.00\" text-anchor=\"middle\" x=\"163.5\" y=\"-197.3\">input:</text>\n",
       "<polyline fill=\"none\" points=\"135.5,-189.5 191.5,-189.5 \" stroke=\"black\"/>\n",
       "<text font-family=\"Times New Roman,serif\" font-size=\"14.00\" text-anchor=\"middle\" x=\"163.5\" y=\"-174.3\">output:</text>\n",
       "<polyline fill=\"none\" points=\"191.5,-166.5 191.5,-212.5 \" stroke=\"black\"/>\n",
       "<text font-family=\"Times New Roman,serif\" font-size=\"14.00\" text-anchor=\"middle\" x=\"267.5\" y=\"-197.3\">(None, 56, 56, 1)</text>\n",
       "<polyline fill=\"none\" points=\"191.5,-189.5 343.5,-189.5 \" stroke=\"black\"/>\n",
       "<text font-family=\"Times New Roman,serif\" font-size=\"14.00\" text-anchor=\"middle\" x=\"267.5\" y=\"-174.3\">(None, 56, 56, 50) (relu)</text>\n",
       "</g>\n",
       "<!-- 2272831543168&#45;&gt;2272799697552 -->\n",
       "<g class=\"edge\" id=\"edge3\"><title>2272831543168-&gt;2272799697552</title>\n",
       "<path d=\"M176,-249.366C176,-241.152 176,-231.658 176,-222.725\" fill=\"none\" stroke=\"black\"/>\n",
       "<polygon fill=\"black\" points=\"179.5,-222.607 176,-212.607 172.5,-222.607 179.5,-222.607\" stroke=\"black\"/>\n",
       "</g>\n",
       "<!-- 2272831494128 -->\n",
       "<g class=\"node\" id=\"node5\"><title>2272831494128</title>\n",
       "<polygon fill=\"none\" points=\"8.5,-83.5 8.5,-129.5 343.5,-129.5 343.5,-83.5 8.5,-83.5\" stroke=\"black\"/>\n",
       "<text font-family=\"Times New Roman,serif\" font-size=\"14.00\" text-anchor=\"middle\" x=\"72\" y=\"-102.8\">conv2d_2: Conv2D</text>\n",
       "<polyline fill=\"none\" points=\"135.5,-83.5 135.5,-129.5 \" stroke=\"black\"/>\n",
       "<text font-family=\"Times New Roman,serif\" font-size=\"14.00\" text-anchor=\"middle\" x=\"163.5\" y=\"-114.3\">input:</text>\n",
       "<polyline fill=\"none\" points=\"135.5,-106.5 191.5,-106.5 \" stroke=\"black\"/>\n",
       "<text font-family=\"Times New Roman,serif\" font-size=\"14.00\" text-anchor=\"middle\" x=\"163.5\" y=\"-91.3\">output:</text>\n",
       "<polyline fill=\"none\" points=\"191.5,-83.5 191.5,-129.5 \" stroke=\"black\"/>\n",
       "<text font-family=\"Times New Roman,serif\" font-size=\"14.00\" text-anchor=\"middle\" x=\"267.5\" y=\"-114.3\">(None, 56, 56, 50)</text>\n",
       "<polyline fill=\"none\" points=\"191.5,-106.5 343.5,-106.5 \" stroke=\"black\"/>\n",
       "<text font-family=\"Times New Roman,serif\" font-size=\"14.00\" text-anchor=\"middle\" x=\"267.5\" y=\"-91.3\">(None, 28, 28, 25) (relu)</text>\n",
       "</g>\n",
       "<!-- 2272799697552&#45;&gt;2272831494128 -->\n",
       "<g class=\"edge\" id=\"edge4\"><title>2272799697552-&gt;2272831494128</title>\n",
       "<path d=\"M176,-166.366C176,-158.152 176,-148.658 176,-139.725\" fill=\"none\" stroke=\"black\"/>\n",
       "<polygon fill=\"black\" points=\"179.5,-139.607 176,-129.607 172.5,-139.607 179.5,-139.607\" stroke=\"black\"/>\n",
       "</g>\n",
       "<!-- 2272831446712 -->\n",
       "<g class=\"node\" id=\"node6\"><title>2272831446712</title>\n",
       "<polygon fill=\"none\" points=\"0,-0.5 0,-46.5 352,-46.5 352,-0.5 0,-0.5\" stroke=\"black\"/>\n",
       "<text font-family=\"Times New Roman,serif\" font-size=\"14.00\" text-anchor=\"middle\" x=\"63.5\" y=\"-19.8\">conv2d_3: Conv2D</text>\n",
       "<polyline fill=\"none\" points=\"127,-0.5 127,-46.5 \" stroke=\"black\"/>\n",
       "<text font-family=\"Times New Roman,serif\" font-size=\"14.00\" text-anchor=\"middle\" x=\"155\" y=\"-31.3\">input:</text>\n",
       "<polyline fill=\"none\" points=\"127,-23.5 183,-23.5 \" stroke=\"black\"/>\n",
       "<text font-family=\"Times New Roman,serif\" font-size=\"14.00\" text-anchor=\"middle\" x=\"155\" y=\"-8.3\">output:</text>\n",
       "<polyline fill=\"none\" points=\"183,-0.5 183,-46.5 \" stroke=\"black\"/>\n",
       "<text font-family=\"Times New Roman,serif\" font-size=\"14.00\" text-anchor=\"middle\" x=\"267.5\" y=\"-31.3\">(None, 28, 28, 25)</text>\n",
       "<polyline fill=\"none\" points=\"183,-23.5 352,-23.5 \" stroke=\"black\"/>\n",
       "<text font-family=\"Times New Roman,serif\" font-size=\"14.00\" text-anchor=\"middle\" x=\"267.5\" y=\"-8.3\">(None, 28, 28, 1) (sigmoid)</text>\n",
       "</g>\n",
       "<!-- 2272831494128&#45;&gt;2272831446712 -->\n",
       "<g class=\"edge\" id=\"edge5\"><title>2272831494128-&gt;2272831446712</title>\n",
       "<path d=\"M176,-83.3664C176,-75.1516 176,-65.6579 176,-56.7252\" fill=\"none\" stroke=\"black\"/>\n",
       "<polygon fill=\"black\" points=\"179.5,-56.6068 176,-46.6068 172.5,-56.6069 179.5,-56.6068\" stroke=\"black\"/>\n",
       "</g>\n",
       "</g>\n",
       "</svg>"
      ],
      "text/plain": [
       "<IPython.core.display.SVG object>"
      ]
     },
     "metadata": {},
     "output_type": "display_data"
    }
   ],
   "source": [
    "# Build Generative model ...\n",
    "opt = Adam(lr=1e-4)\n",
    "\n",
    "generator = Sequential(name='generator')\n",
    "generator.add(Dense(3136, input_shape=(100,), activation='relu'))\n",
    "generator.add(Reshape((56, 56, 1)))\n",
    "generator.add(Conv2D(50, (3, 3),activation='relu', padding='same'))\n",
    "generator.add(Conv2D(25, (3, 3), strides=(2, 2), activation='relu', padding='same'))\n",
    "generator.add(Conv2D(1, (1, 1), activation='sigmoid', padding='same'))\n",
    "\n",
    "generator.compile(loss='mean_squared_error', optimizer=opt)\n",
    "generator.summary()\n",
    "draw_model_on_interactive_session(generator)"
   ]
  },
  {
   "cell_type": "code",
   "execution_count": 7,
   "metadata": {
    "collapsed": true
   },
   "outputs": [],
   "source": [
    "def initialise_generator():\n",
    "    X_train[0:1000].shape\n",
    "    y = np.random.normal(0,1,size=[1000,100])\n",
    "\n",
    "    generator.fit(y, X_train[0:1000], epochs=10, verbose=1)\n"
   ]
  },
  {
   "cell_type": "code",
   "execution_count": 8,
   "metadata": {
    "scrolled": true
   },
   "outputs": [
    {
     "name": "stdout",
     "output_type": "stream",
     "text": [
      "_________________________________________________________________\n",
      "Layer (type)                 Output Shape              Param #   \n",
      "=================================================================\n",
      "dense_2 (Dense)              (None, 28, 28, 784)       1568      \n",
      "_________________________________________________________________\n",
      "conv2d_4 (Conv2D)            (None, 14, 14, 32)        627232    \n",
      "_________________________________________________________________\n",
      "conv2d_5 (Conv2D)            (None, 7, 7, 32)          25632     \n",
      "_________________________________________________________________\n",
      "flatten_1 (Flatten)          (None, 1568)              0         \n",
      "_________________________________________________________________\n",
      "dense_3 (Dense)              (None, 256)               401664    \n",
      "_________________________________________________________________\n",
      "dense_4 (Dense)              (None, 1)                 257       \n",
      "=================================================================\n",
      "Total params: 1,056,353\n",
      "Trainable params: 1,056,353\n",
      "Non-trainable params: 0\n",
      "_________________________________________________________________\n"
     ]
    },
    {
     "data": {
      "image/svg+xml": [
       "<svg height=\"553pt\" viewBox=\"0.00 0.00 343.00 553.00\" width=\"343pt\" xmlns=\"http://www.w3.org/2000/svg\" xmlns:xlink=\"http://www.w3.org/1999/xlink\">\n",
       "<g class=\"graph\" id=\"graph0\" transform=\"scale(1 1) rotate(0) translate(4 549)\">\n",
       "<title>G</title>\n",
       "<polygon fill=\"white\" points=\"-4,4 -4,-549 339,-549 339,4 -4,4\" stroke=\"none\"/>\n",
       "<!-- 2272832779824 -->\n",
       "<g class=\"node\" id=\"node1\"><title>2272832779824</title>\n",
       "<polygon fill=\"none\" points=\"0.5,-498.5 0.5,-544.5 334.5,-544.5 334.5,-498.5 0.5,-498.5\" stroke=\"black\"/>\n",
       "<text font-family=\"Times New Roman,serif\" font-size=\"14.00\" text-anchor=\"middle\" x=\"83.5\" y=\"-517.8\">dense_2_input: InputLayer</text>\n",
       "<polyline fill=\"none\" points=\"166.5,-498.5 166.5,-544.5 \" stroke=\"black\"/>\n",
       "<text font-family=\"Times New Roman,serif\" font-size=\"14.00\" text-anchor=\"middle\" x=\"194.5\" y=\"-529.3\">input:</text>\n",
       "<polyline fill=\"none\" points=\"166.5,-521.5 222.5,-521.5 \" stroke=\"black\"/>\n",
       "<text font-family=\"Times New Roman,serif\" font-size=\"14.00\" text-anchor=\"middle\" x=\"194.5\" y=\"-506.3\">output:</text>\n",
       "<polyline fill=\"none\" points=\"222.5,-498.5 222.5,-544.5 \" stroke=\"black\"/>\n",
       "<text font-family=\"Times New Roman,serif\" font-size=\"14.00\" text-anchor=\"middle\" x=\"278.5\" y=\"-529.3\">(None, 28, 28, 1)</text>\n",
       "<polyline fill=\"none\" points=\"222.5,-521.5 334.5,-521.5 \" stroke=\"black\"/>\n",
       "<text font-family=\"Times New Roman,serif\" font-size=\"14.00\" text-anchor=\"middle\" x=\"278.5\" y=\"-506.3\">(None, 28, 28, 1)</text>\n",
       "</g>\n",
       "<!-- 2272663779200 -->\n",
       "<g class=\"node\" id=\"node2\"><title>2272663779200</title>\n",
       "<polygon fill=\"none\" points=\"4,-415.5 4,-461.5 331,-461.5 331,-415.5 4,-415.5\" stroke=\"black\"/>\n",
       "<text font-family=\"Times New Roman,serif\" font-size=\"14.00\" text-anchor=\"middle\" x=\"56\" y=\"-434.8\">dense_2: Dense</text>\n",
       "<polyline fill=\"none\" points=\"108,-415.5 108,-461.5 \" stroke=\"black\"/>\n",
       "<text font-family=\"Times New Roman,serif\" font-size=\"14.00\" text-anchor=\"middle\" x=\"136\" y=\"-446.3\">input:</text>\n",
       "<polyline fill=\"none\" points=\"108,-438.5 164,-438.5 \" stroke=\"black\"/>\n",
       "<text font-family=\"Times New Roman,serif\" font-size=\"14.00\" text-anchor=\"middle\" x=\"136\" y=\"-423.3\">output:</text>\n",
       "<polyline fill=\"none\" points=\"164,-415.5 164,-461.5 \" stroke=\"black\"/>\n",
       "<text font-family=\"Times New Roman,serif\" font-size=\"14.00\" text-anchor=\"middle\" x=\"247.5\" y=\"-446.3\">(None, 28, 28, 1)</text>\n",
       "<polyline fill=\"none\" points=\"164,-438.5 331,-438.5 \" stroke=\"black\"/>\n",
       "<text font-family=\"Times New Roman,serif\" font-size=\"14.00\" text-anchor=\"middle\" x=\"247.5\" y=\"-423.3\">(None, 28, 28, 784) (linear)</text>\n",
       "</g>\n",
       "<!-- 2272832779824&#45;&gt;2272663779200 -->\n",
       "<g class=\"edge\" id=\"edge1\"><title>2272832779824-&gt;2272663779200</title>\n",
       "<path d=\"M167.5,-498.366C167.5,-490.152 167.5,-480.658 167.5,-471.725\" fill=\"none\" stroke=\"black\"/>\n",
       "<polygon fill=\"black\" points=\"171,-471.607 167.5,-461.607 164,-471.607 171,-471.607\" stroke=\"black\"/>\n",
       "</g>\n",
       "<!-- 2272832863144 -->\n",
       "<g class=\"node\" id=\"node3\"><title>2272832863144</title>\n",
       "<polygon fill=\"none\" points=\"0,-332.5 0,-378.5 335,-378.5 335,-332.5 0,-332.5\" stroke=\"black\"/>\n",
       "<text font-family=\"Times New Roman,serif\" font-size=\"14.00\" text-anchor=\"middle\" x=\"63.5\" y=\"-351.8\">conv2d_4: Conv2D</text>\n",
       "<polyline fill=\"none\" points=\"127,-332.5 127,-378.5 \" stroke=\"black\"/>\n",
       "<text font-family=\"Times New Roman,serif\" font-size=\"14.00\" text-anchor=\"middle\" x=\"155\" y=\"-363.3\">input:</text>\n",
       "<polyline fill=\"none\" points=\"127,-355.5 183,-355.5 \" stroke=\"black\"/>\n",
       "<text font-family=\"Times New Roman,serif\" font-size=\"14.00\" text-anchor=\"middle\" x=\"155\" y=\"-340.3\">output:</text>\n",
       "<polyline fill=\"none\" points=\"183,-332.5 183,-378.5 \" stroke=\"black\"/>\n",
       "<text font-family=\"Times New Roman,serif\" font-size=\"14.00\" text-anchor=\"middle\" x=\"259\" y=\"-363.3\">(None, 28, 28, 784)</text>\n",
       "<polyline fill=\"none\" points=\"183,-355.5 335,-355.5 \" stroke=\"black\"/>\n",
       "<text font-family=\"Times New Roman,serif\" font-size=\"14.00\" text-anchor=\"middle\" x=\"259\" y=\"-340.3\">(None, 14, 14, 32) (relu)</text>\n",
       "</g>\n",
       "<!-- 2272663779200&#45;&gt;2272832863144 -->\n",
       "<g class=\"edge\" id=\"edge2\"><title>2272663779200-&gt;2272832863144</title>\n",
       "<path d=\"M167.5,-415.366C167.5,-407.152 167.5,-397.658 167.5,-388.725\" fill=\"none\" stroke=\"black\"/>\n",
       "<polygon fill=\"black\" points=\"171,-388.607 167.5,-378.607 164,-388.607 171,-388.607\" stroke=\"black\"/>\n",
       "</g>\n",
       "<!-- 2272780121928 -->\n",
       "<g class=\"node\" id=\"node4\"><title>2272780121928</title>\n",
       "<polygon fill=\"none\" points=\"7,-249.5 7,-295.5 328,-295.5 328,-249.5 7,-249.5\" stroke=\"black\"/>\n",
       "<text font-family=\"Times New Roman,serif\" font-size=\"14.00\" text-anchor=\"middle\" x=\"70.5\" y=\"-268.8\">conv2d_5: Conv2D</text>\n",
       "<polyline fill=\"none\" points=\"134,-249.5 134,-295.5 \" stroke=\"black\"/>\n",
       "<text font-family=\"Times New Roman,serif\" font-size=\"14.00\" text-anchor=\"middle\" x=\"162\" y=\"-280.3\">input:</text>\n",
       "<polyline fill=\"none\" points=\"134,-272.5 190,-272.5 \" stroke=\"black\"/>\n",
       "<text font-family=\"Times New Roman,serif\" font-size=\"14.00\" text-anchor=\"middle\" x=\"162\" y=\"-257.3\">output:</text>\n",
       "<polyline fill=\"none\" points=\"190,-249.5 190,-295.5 \" stroke=\"black\"/>\n",
       "<text font-family=\"Times New Roman,serif\" font-size=\"14.00\" text-anchor=\"middle\" x=\"259\" y=\"-280.3\">(None, 14, 14, 32)</text>\n",
       "<polyline fill=\"none\" points=\"190,-272.5 328,-272.5 \" stroke=\"black\"/>\n",
       "<text font-family=\"Times New Roman,serif\" font-size=\"14.00\" text-anchor=\"middle\" x=\"259\" y=\"-257.3\">(None, 7, 7, 32) (relu)</text>\n",
       "</g>\n",
       "<!-- 2272832863144&#45;&gt;2272780121928 -->\n",
       "<g class=\"edge\" id=\"edge3\"><title>2272832863144-&gt;2272780121928</title>\n",
       "<path d=\"M167.5,-332.366C167.5,-324.152 167.5,-314.658 167.5,-305.725\" fill=\"none\" stroke=\"black\"/>\n",
       "<polygon fill=\"black\" points=\"171,-305.607 167.5,-295.607 164,-305.607 171,-305.607\" stroke=\"black\"/>\n",
       "</g>\n",
       "<!-- 2272832797048 -->\n",
       "<g class=\"node\" id=\"node5\"><title>2272832797048</title>\n",
       "<polygon fill=\"none\" points=\"32.5,-166.5 32.5,-212.5 302.5,-212.5 302.5,-166.5 32.5,-166.5\" stroke=\"black\"/>\n",
       "<text font-family=\"Times New Roman,serif\" font-size=\"14.00\" text-anchor=\"middle\" x=\"87\" y=\"-185.8\">flatten_1: Flatten</text>\n",
       "<polyline fill=\"none\" points=\"141.5,-166.5 141.5,-212.5 \" stroke=\"black\"/>\n",
       "<text font-family=\"Times New Roman,serif\" font-size=\"14.00\" text-anchor=\"middle\" x=\"169.5\" y=\"-197.3\">input:</text>\n",
       "<polyline fill=\"none\" points=\"141.5,-189.5 197.5,-189.5 \" stroke=\"black\"/>\n",
       "<text font-family=\"Times New Roman,serif\" font-size=\"14.00\" text-anchor=\"middle\" x=\"169.5\" y=\"-174.3\">output:</text>\n",
       "<polyline fill=\"none\" points=\"197.5,-166.5 197.5,-212.5 \" stroke=\"black\"/>\n",
       "<text font-family=\"Times New Roman,serif\" font-size=\"14.00\" text-anchor=\"middle\" x=\"250\" y=\"-197.3\">(None, 7, 7, 32)</text>\n",
       "<polyline fill=\"none\" points=\"197.5,-189.5 302.5,-189.5 \" stroke=\"black\"/>\n",
       "<text font-family=\"Times New Roman,serif\" font-size=\"14.00\" text-anchor=\"middle\" x=\"250\" y=\"-174.3\">(None, 1568)</text>\n",
       "</g>\n",
       "<!-- 2272780121928&#45;&gt;2272832797048 -->\n",
       "<g class=\"edge\" id=\"edge4\"><title>2272780121928-&gt;2272832797048</title>\n",
       "<path d=\"M167.5,-249.366C167.5,-241.152 167.5,-231.658 167.5,-222.725\" fill=\"none\" stroke=\"black\"/>\n",
       "<polygon fill=\"black\" points=\"171,-222.607 167.5,-212.607 164,-222.607 171,-222.607\" stroke=\"black\"/>\n",
       "</g>\n",
       "<!-- 2272832351984 -->\n",
       "<g class=\"node\" id=\"node6\"><title>2272832351984</title>\n",
       "<polygon fill=\"none\" points=\"29.5,-83.5 29.5,-129.5 305.5,-129.5 305.5,-83.5 29.5,-83.5\" stroke=\"black\"/>\n",
       "<text font-family=\"Times New Roman,serif\" font-size=\"14.00\" text-anchor=\"middle\" x=\"81.5\" y=\"-102.8\">dense_3: Dense</text>\n",
       "<polyline fill=\"none\" points=\"133.5,-83.5 133.5,-129.5 \" stroke=\"black\"/>\n",
       "<text font-family=\"Times New Roman,serif\" font-size=\"14.00\" text-anchor=\"middle\" x=\"161.5\" y=\"-114.3\">input:</text>\n",
       "<polyline fill=\"none\" points=\"133.5,-106.5 189.5,-106.5 \" stroke=\"black\"/>\n",
       "<text font-family=\"Times New Roman,serif\" font-size=\"14.00\" text-anchor=\"middle\" x=\"161.5\" y=\"-91.3\">output:</text>\n",
       "<polyline fill=\"none\" points=\"189.5,-83.5 189.5,-129.5 \" stroke=\"black\"/>\n",
       "<text font-family=\"Times New Roman,serif\" font-size=\"14.00\" text-anchor=\"middle\" x=\"247.5\" y=\"-114.3\">(None, 1568)</text>\n",
       "<polyline fill=\"none\" points=\"189.5,-106.5 305.5,-106.5 \" stroke=\"black\"/>\n",
       "<text font-family=\"Times New Roman,serif\" font-size=\"14.00\" text-anchor=\"middle\" x=\"247.5\" y=\"-91.3\">(None, 256) (relu)</text>\n",
       "</g>\n",
       "<!-- 2272832797048&#45;&gt;2272832351984 -->\n",
       "<g class=\"edge\" id=\"edge5\"><title>2272832797048-&gt;2272832351984</title>\n",
       "<path d=\"M167.5,-166.366C167.5,-158.152 167.5,-148.658 167.5,-139.725\" fill=\"none\" stroke=\"black\"/>\n",
       "<polygon fill=\"black\" points=\"171,-139.607 167.5,-129.607 164,-139.607 171,-139.607\" stroke=\"black\"/>\n",
       "</g>\n",
       "<!-- 2272832869040 -->\n",
       "<g class=\"node\" id=\"node7\"><title>2272832869040</title>\n",
       "<polygon fill=\"none\" points=\"31.5,-0.5 31.5,-46.5 303.5,-46.5 303.5,-0.5 31.5,-0.5\" stroke=\"black\"/>\n",
       "<text font-family=\"Times New Roman,serif\" font-size=\"14.00\" text-anchor=\"middle\" x=\"83.5\" y=\"-19.8\">dense_4: Dense</text>\n",
       "<polyline fill=\"none\" points=\"135.5,-0.5 135.5,-46.5 \" stroke=\"black\"/>\n",
       "<text font-family=\"Times New Roman,serif\" font-size=\"14.00\" text-anchor=\"middle\" x=\"163.5\" y=\"-31.3\">input:</text>\n",
       "<polyline fill=\"none\" points=\"135.5,-23.5 191.5,-23.5 \" stroke=\"black\"/>\n",
       "<text font-family=\"Times New Roman,serif\" font-size=\"14.00\" text-anchor=\"middle\" x=\"163.5\" y=\"-8.3\">output:</text>\n",
       "<polyline fill=\"none\" points=\"191.5,-0.5 191.5,-46.5 \" stroke=\"black\"/>\n",
       "<text font-family=\"Times New Roman,serif\" font-size=\"14.00\" text-anchor=\"middle\" x=\"247.5\" y=\"-31.3\">(None, 256)</text>\n",
       "<polyline fill=\"none\" points=\"191.5,-23.5 303.5,-23.5 \" stroke=\"black\"/>\n",
       "<text font-family=\"Times New Roman,serif\" font-size=\"14.00\" text-anchor=\"middle\" x=\"247.5\" y=\"-8.3\">(None, 1) (linear)</text>\n",
       "</g>\n",
       "<!-- 2272832351984&#45;&gt;2272832869040 -->\n",
       "<g class=\"edge\" id=\"edge6\"><title>2272832351984-&gt;2272832869040</title>\n",
       "<path d=\"M167.5,-83.3664C167.5,-75.1516 167.5,-65.6579 167.5,-56.7252\" fill=\"none\" stroke=\"black\"/>\n",
       "<polygon fill=\"black\" points=\"171,-56.6068 167.5,-46.6068 164,-56.6069 171,-56.6068\" stroke=\"black\"/>\n",
       "</g>\n",
       "</g>\n",
       "</svg>"
      ],
      "text/plain": [
       "<IPython.core.display.SVG object>"
      ]
     },
     "metadata": {},
     "output_type": "display_data"
    }
   ],
   "source": [
    "\n",
    "# Build Discriminative model ...\n",
    "dopt = Adam(lr=1e-3)\n",
    "\n",
    "discriminator = Sequential(name='discriminator')\n",
    "discriminator.add(Dense(28 * 28 * 1, input_shape=(28, 28, 1)))\n",
    "discriminator.add(Conv2D(32, (5, 5), strides=(2, 2), padding='same', activation='relu'))\n",
    "discriminator.add(Conv2D(32, (5, 5), strides=(2, 2), padding='same', activation='relu'))\n",
    "discriminator.add(Flatten())\n",
    "discriminator.add(Dense(256, activation='relu'))\n",
    "discriminator.add(Dense(1, activation='linear'))\n",
    "discriminator.compile(loss='binary_crossentropy', optimizer=dopt)\n",
    "#discriminator.compile(loss=GAN_loss_function, optimizer=dopt)\n",
    "discriminator.summary()\n",
    "\n",
    "draw_model_on_interactive_session(discriminator)"
   ]
  },
  {
   "cell_type": "code",
   "execution_count": 9,
   "metadata": {
    "collapsed": true
   },
   "outputs": [],
   "source": [
    "# Freeze weights in the network for when using stacked training\n",
    "def make_trainable(network, val):\n",
    "    network.trainable = val\n",
    "    \n",
    "    for layer in network.layers:\n",
    "        layer.trainable = val\n",
    "\n",
    "    network.compile(loss=network.loss, optimizer=network.optimizer)\n"
   ]
  },
  {
   "cell_type": "code",
   "execution_count": 10,
   "metadata": {},
   "outputs": [
    {
     "name": "stdout",
     "output_type": "stream",
     "text": [
      "_________________________________________________________________\n",
      "Layer (type)                 Output Shape              Param #   \n",
      "=================================================================\n",
      "generator (Sequential)       (None, 28, 28, 1)         328537    \n",
      "_________________________________________________________________\n",
      "discriminator (Sequential)   (None, 1)                 1056353   \n",
      "=================================================================\n",
      "Total params: 1,384,890\n",
      "Trainable params: 1,384,890\n",
      "Non-trainable params: 0\n",
      "_________________________________________________________________\n"
     ]
    },
    {
     "data": {
      "image/svg+xml": [
       "<svg height=\"553pt\" viewBox=\"0.00 0.00 360.00 553.00\" width=\"360pt\" xmlns=\"http://www.w3.org/2000/svg\" xmlns:xlink=\"http://www.w3.org/1999/xlink\">\n",
       "<g class=\"graph\" id=\"graph0\" transform=\"scale(1 1) rotate(0) translate(4 549)\">\n",
       "<title>G</title>\n",
       "<polygon fill=\"white\" points=\"-4,4 -4,-549 356,-549 356,4 -4,4\" stroke=\"none\"/>\n",
       "<!-- 2272831395600 -->\n",
       "<g class=\"node\" id=\"node1\"><title>2272831395600</title>\n",
       "<polygon fill=\"none\" points=\"23.5,-498.5 23.5,-544.5 328.5,-544.5 328.5,-498.5 23.5,-498.5\" stroke=\"black\"/>\n",
       "<text font-family=\"Times New Roman,serif\" font-size=\"14.00\" text-anchor=\"middle\" x=\"106.5\" y=\"-517.8\">dense_1_input: InputLayer</text>\n",
       "<polyline fill=\"none\" points=\"189.5,-498.5 189.5,-544.5 \" stroke=\"black\"/>\n",
       "<text font-family=\"Times New Roman,serif\" font-size=\"14.00\" text-anchor=\"middle\" x=\"217.5\" y=\"-529.3\">input:</text>\n",
       "<polyline fill=\"none\" points=\"189.5,-521.5 245.5,-521.5 \" stroke=\"black\"/>\n",
       "<text font-family=\"Times New Roman,serif\" font-size=\"14.00\" text-anchor=\"middle\" x=\"217.5\" y=\"-506.3\">output:</text>\n",
       "<polyline fill=\"none\" points=\"245.5,-498.5 245.5,-544.5 \" stroke=\"black\"/>\n",
       "<text font-family=\"Times New Roman,serif\" font-size=\"14.00\" text-anchor=\"middle\" x=\"287\" y=\"-529.3\">(None, 100)</text>\n",
       "<polyline fill=\"none\" points=\"245.5,-521.5 328.5,-521.5 \" stroke=\"black\"/>\n",
       "<text font-family=\"Times New Roman,serif\" font-size=\"14.00\" text-anchor=\"middle\" x=\"287\" y=\"-506.3\">(None, 100)</text>\n",
       "</g>\n",
       "<!-- 2272799698784 -->\n",
       "<g class=\"node\" id=\"node2\"><title>2272799698784</title>\n",
       "<polygon fill=\"none\" points=\"34.5,-415.5 34.5,-461.5 317.5,-461.5 317.5,-415.5 34.5,-415.5\" stroke=\"black\"/>\n",
       "<text font-family=\"Times New Roman,serif\" font-size=\"14.00\" text-anchor=\"middle\" x=\"86.5\" y=\"-434.8\">dense_1: Dense</text>\n",
       "<polyline fill=\"none\" points=\"138.5,-415.5 138.5,-461.5 \" stroke=\"black\"/>\n",
       "<text font-family=\"Times New Roman,serif\" font-size=\"14.00\" text-anchor=\"middle\" x=\"166.5\" y=\"-446.3\">input:</text>\n",
       "<polyline fill=\"none\" points=\"138.5,-438.5 194.5,-438.5 \" stroke=\"black\"/>\n",
       "<text font-family=\"Times New Roman,serif\" font-size=\"14.00\" text-anchor=\"middle\" x=\"166.5\" y=\"-423.3\">output:</text>\n",
       "<polyline fill=\"none\" points=\"194.5,-415.5 194.5,-461.5 \" stroke=\"black\"/>\n",
       "<text font-family=\"Times New Roman,serif\" font-size=\"14.00\" text-anchor=\"middle\" x=\"256\" y=\"-446.3\">(None, 100)</text>\n",
       "<polyline fill=\"none\" points=\"194.5,-438.5 317.5,-438.5 \" stroke=\"black\"/>\n",
       "<text font-family=\"Times New Roman,serif\" font-size=\"14.00\" text-anchor=\"middle\" x=\"256\" y=\"-423.3\">(None, 3136) (relu)</text>\n",
       "</g>\n",
       "<!-- 2272831395600&#45;&gt;2272799698784 -->\n",
       "<g class=\"edge\" id=\"edge1\"><title>2272831395600-&gt;2272799698784</title>\n",
       "<path d=\"M176,-498.366C176,-490.152 176,-480.658 176,-471.725\" fill=\"none\" stroke=\"black\"/>\n",
       "<polygon fill=\"black\" points=\"179.5,-471.607 176,-461.607 172.5,-471.607 179.5,-471.607\" stroke=\"black\"/>\n",
       "</g>\n",
       "<!-- 2272831543168 -->\n",
       "<g class=\"node\" id=\"node3\"><title>2272831543168</title>\n",
       "<polygon fill=\"none\" points=\"28,-332.5 28,-378.5 324,-378.5 324,-332.5 28,-332.5\" stroke=\"black\"/>\n",
       "<text font-family=\"Times New Roman,serif\" font-size=\"14.00\" text-anchor=\"middle\" x=\"92\" y=\"-351.8\">reshape_1: Reshape</text>\n",
       "<polyline fill=\"none\" points=\"156,-332.5 156,-378.5 \" stroke=\"black\"/>\n",
       "<text font-family=\"Times New Roman,serif\" font-size=\"14.00\" text-anchor=\"middle\" x=\"184\" y=\"-363.3\">input:</text>\n",
       "<polyline fill=\"none\" points=\"156,-355.5 212,-355.5 \" stroke=\"black\"/>\n",
       "<text font-family=\"Times New Roman,serif\" font-size=\"14.00\" text-anchor=\"middle\" x=\"184\" y=\"-340.3\">output:</text>\n",
       "<polyline fill=\"none\" points=\"212,-332.5 212,-378.5 \" stroke=\"black\"/>\n",
       "<text font-family=\"Times New Roman,serif\" font-size=\"14.00\" text-anchor=\"middle\" x=\"268\" y=\"-363.3\">(None, 3136)</text>\n",
       "<polyline fill=\"none\" points=\"212,-355.5 324,-355.5 \" stroke=\"black\"/>\n",
       "<text font-family=\"Times New Roman,serif\" font-size=\"14.00\" text-anchor=\"middle\" x=\"268\" y=\"-340.3\">(None, 56, 56, 1)</text>\n",
       "</g>\n",
       "<!-- 2272799698784&#45;&gt;2272831543168 -->\n",
       "<g class=\"edge\" id=\"edge2\"><title>2272799698784-&gt;2272831543168</title>\n",
       "<path d=\"M176,-415.366C176,-407.152 176,-397.658 176,-388.725\" fill=\"none\" stroke=\"black\"/>\n",
       "<polygon fill=\"black\" points=\"179.5,-388.607 176,-378.607 172.5,-388.607 179.5,-388.607\" stroke=\"black\"/>\n",
       "</g>\n",
       "<!-- 2272799697552 -->\n",
       "<g class=\"node\" id=\"node4\"><title>2272799697552</title>\n",
       "<polygon fill=\"none\" points=\"8.5,-249.5 8.5,-295.5 343.5,-295.5 343.5,-249.5 8.5,-249.5\" stroke=\"black\"/>\n",
       "<text font-family=\"Times New Roman,serif\" font-size=\"14.00\" text-anchor=\"middle\" x=\"72\" y=\"-268.8\">conv2d_1: Conv2D</text>\n",
       "<polyline fill=\"none\" points=\"135.5,-249.5 135.5,-295.5 \" stroke=\"black\"/>\n",
       "<text font-family=\"Times New Roman,serif\" font-size=\"14.00\" text-anchor=\"middle\" x=\"163.5\" y=\"-280.3\">input:</text>\n",
       "<polyline fill=\"none\" points=\"135.5,-272.5 191.5,-272.5 \" stroke=\"black\"/>\n",
       "<text font-family=\"Times New Roman,serif\" font-size=\"14.00\" text-anchor=\"middle\" x=\"163.5\" y=\"-257.3\">output:</text>\n",
       "<polyline fill=\"none\" points=\"191.5,-249.5 191.5,-295.5 \" stroke=\"black\"/>\n",
       "<text font-family=\"Times New Roman,serif\" font-size=\"14.00\" text-anchor=\"middle\" x=\"267.5\" y=\"-280.3\">(None, 56, 56, 1)</text>\n",
       "<polyline fill=\"none\" points=\"191.5,-272.5 343.5,-272.5 \" stroke=\"black\"/>\n",
       "<text font-family=\"Times New Roman,serif\" font-size=\"14.00\" text-anchor=\"middle\" x=\"267.5\" y=\"-257.3\">(None, 56, 56, 50) (relu)</text>\n",
       "</g>\n",
       "<!-- 2272831543168&#45;&gt;2272799697552 -->\n",
       "<g class=\"edge\" id=\"edge3\"><title>2272831543168-&gt;2272799697552</title>\n",
       "<path d=\"M176,-332.366C176,-324.152 176,-314.658 176,-305.725\" fill=\"none\" stroke=\"black\"/>\n",
       "<polygon fill=\"black\" points=\"179.5,-305.607 176,-295.607 172.5,-305.607 179.5,-305.607\" stroke=\"black\"/>\n",
       "</g>\n",
       "<!-- 2272831494128 -->\n",
       "<g class=\"node\" id=\"node5\"><title>2272831494128</title>\n",
       "<polygon fill=\"none\" points=\"8.5,-166.5 8.5,-212.5 343.5,-212.5 343.5,-166.5 8.5,-166.5\" stroke=\"black\"/>\n",
       "<text font-family=\"Times New Roman,serif\" font-size=\"14.00\" text-anchor=\"middle\" x=\"72\" y=\"-185.8\">conv2d_2: Conv2D</text>\n",
       "<polyline fill=\"none\" points=\"135.5,-166.5 135.5,-212.5 \" stroke=\"black\"/>\n",
       "<text font-family=\"Times New Roman,serif\" font-size=\"14.00\" text-anchor=\"middle\" x=\"163.5\" y=\"-197.3\">input:</text>\n",
       "<polyline fill=\"none\" points=\"135.5,-189.5 191.5,-189.5 \" stroke=\"black\"/>\n",
       "<text font-family=\"Times New Roman,serif\" font-size=\"14.00\" text-anchor=\"middle\" x=\"163.5\" y=\"-174.3\">output:</text>\n",
       "<polyline fill=\"none\" points=\"191.5,-166.5 191.5,-212.5 \" stroke=\"black\"/>\n",
       "<text font-family=\"Times New Roman,serif\" font-size=\"14.00\" text-anchor=\"middle\" x=\"267.5\" y=\"-197.3\">(None, 56, 56, 50)</text>\n",
       "<polyline fill=\"none\" points=\"191.5,-189.5 343.5,-189.5 \" stroke=\"black\"/>\n",
       "<text font-family=\"Times New Roman,serif\" font-size=\"14.00\" text-anchor=\"middle\" x=\"267.5\" y=\"-174.3\">(None, 28, 28, 25) (relu)</text>\n",
       "</g>\n",
       "<!-- 2272799697552&#45;&gt;2272831494128 -->\n",
       "<g class=\"edge\" id=\"edge4\"><title>2272799697552-&gt;2272831494128</title>\n",
       "<path d=\"M176,-249.366C176,-241.152 176,-231.658 176,-222.725\" fill=\"none\" stroke=\"black\"/>\n",
       "<polygon fill=\"black\" points=\"179.5,-222.607 176,-212.607 172.5,-222.607 179.5,-222.607\" stroke=\"black\"/>\n",
       "</g>\n",
       "<!-- 2272831446712 -->\n",
       "<g class=\"node\" id=\"node6\"><title>2272831446712</title>\n",
       "<polygon fill=\"none\" points=\"0,-83.5 0,-129.5 352,-129.5 352,-83.5 0,-83.5\" stroke=\"black\"/>\n",
       "<text font-family=\"Times New Roman,serif\" font-size=\"14.00\" text-anchor=\"middle\" x=\"63.5\" y=\"-102.8\">conv2d_3: Conv2D</text>\n",
       "<polyline fill=\"none\" points=\"127,-83.5 127,-129.5 \" stroke=\"black\"/>\n",
       "<text font-family=\"Times New Roman,serif\" font-size=\"14.00\" text-anchor=\"middle\" x=\"155\" y=\"-114.3\">input:</text>\n",
       "<polyline fill=\"none\" points=\"127,-106.5 183,-106.5 \" stroke=\"black\"/>\n",
       "<text font-family=\"Times New Roman,serif\" font-size=\"14.00\" text-anchor=\"middle\" x=\"155\" y=\"-91.3\">output:</text>\n",
       "<polyline fill=\"none\" points=\"183,-83.5 183,-129.5 \" stroke=\"black\"/>\n",
       "<text font-family=\"Times New Roman,serif\" font-size=\"14.00\" text-anchor=\"middle\" x=\"267.5\" y=\"-114.3\">(None, 28, 28, 25)</text>\n",
       "<polyline fill=\"none\" points=\"183,-106.5 352,-106.5 \" stroke=\"black\"/>\n",
       "<text font-family=\"Times New Roman,serif\" font-size=\"14.00\" text-anchor=\"middle\" x=\"267.5\" y=\"-91.3\">(None, 28, 28, 1) (sigmoid)</text>\n",
       "</g>\n",
       "<!-- 2272831494128&#45;&gt;2272831446712 -->\n",
       "<g class=\"edge\" id=\"edge5\"><title>2272831494128-&gt;2272831446712</title>\n",
       "<path d=\"M176,-166.366C176,-158.152 176,-148.658 176,-139.725\" fill=\"none\" stroke=\"black\"/>\n",
       "<polygon fill=\"black\" points=\"179.5,-139.607 176,-129.607 172.5,-139.607 179.5,-139.607\" stroke=\"black\"/>\n",
       "</g>\n",
       "<!-- 2272832861744 -->\n",
       "<g class=\"node\" id=\"node7\"><title>2272832861744</title>\n",
       "<polygon fill=\"none\" points=\"15.5,-0.5 15.5,-46.5 336.5,-46.5 336.5,-0.5 15.5,-0.5\" stroke=\"black\"/>\n",
       "<text font-family=\"Times New Roman,serif\" font-size=\"14.00\" text-anchor=\"middle\" x=\"92\" y=\"-19.8\">discriminator: Sequential</text>\n",
       "<polyline fill=\"none\" points=\"168.5,-0.5 168.5,-46.5 \" stroke=\"black\"/>\n",
       "<text font-family=\"Times New Roman,serif\" font-size=\"14.00\" text-anchor=\"middle\" x=\"196.5\" y=\"-31.3\">input:</text>\n",
       "<polyline fill=\"none\" points=\"168.5,-23.5 224.5,-23.5 \" stroke=\"black\"/>\n",
       "<text font-family=\"Times New Roman,serif\" font-size=\"14.00\" text-anchor=\"middle\" x=\"196.5\" y=\"-8.3\">output:</text>\n",
       "<polyline fill=\"none\" points=\"224.5,-0.5 224.5,-46.5 \" stroke=\"black\"/>\n",
       "<text font-family=\"Times New Roman,serif\" font-size=\"14.00\" text-anchor=\"middle\" x=\"280.5\" y=\"-31.3\">(None, 28, 28, 1)</text>\n",
       "<polyline fill=\"none\" points=\"224.5,-23.5 336.5,-23.5 \" stroke=\"black\"/>\n",
       "<text font-family=\"Times New Roman,serif\" font-size=\"14.00\" text-anchor=\"middle\" x=\"280.5\" y=\"-8.3\">(None, 1)</text>\n",
       "</g>\n",
       "<!-- 2272831446712&#45;&gt;2272832861744 -->\n",
       "<g class=\"edge\" id=\"edge6\"><title>2272831446712-&gt;2272832861744</title>\n",
       "<path d=\"M176,-83.3664C176,-75.1516 176,-65.6579 176,-56.7252\" fill=\"none\" stroke=\"black\"/>\n",
       "<polygon fill=\"black\" points=\"179.5,-56.6068 176,-46.6068 172.5,-56.6069 179.5,-56.6068\" stroke=\"black\"/>\n",
       "</g>\n",
       "</g>\n",
       "</svg>"
      ],
      "text/plain": [
       "<IPython.core.display.SVG object>"
      ]
     },
     "metadata": {},
     "output_type": "display_data"
    }
   ],
   "source": [
    "# Build stacked GAN model\n",
    "# need new loss function here? Maximise entropy between two classes while\n",
    "#discriminator is trying to reduce it?\n",
    "\n",
    "GAN = Sequential()\n",
    "GAN.add(generator)\n",
    "GAN.add(discriminator)\n",
    "GAN.compile(loss='categorical_crossentropy', optimizer='adam')\n",
    "\n",
    "GAN.summary()\n",
    "\n",
    "draw_model_on_interactive_session(GAN)"
   ]
  },
  {
   "cell_type": "code",
   "execution_count": 11,
   "metadata": {
    "collapsed": true
   },
   "outputs": [],
   "source": [
    "losses = {'d':[], 'g':[], 'accuracy':[]}\n",
    "\n",
    "\n",
    "def plot_loss(losses):   \n",
    "    \n",
    "    if ax.lines:\n",
    "        ax.lines[0].set_data(list(range(len(losses[\"d\"]))), losses[\"d\"])\n",
    "        ax.lines[1].set_data(list(range(len(losses[\"g\"]))), losses[\"g\"])\n",
    "        ax.autoscale(True)\n",
    "        \n",
    "    else:        \n",
    "        ax.plot(list(range(len(losses[\"d\"]))), losses[\"d\"])\n",
    "        ax.plot(list(range(len(losses[\"g\"]))), losses[\"g\"])\n",
    "        ax.autoscale()        \n",
    "        \n",
    "    ax.relim()\n",
    "    ax.autoscale_view()\n",
    "    fig.canvas.draw()\n",
    "\n",
    "    \n",
    "def plot_gen(n_ex=16,dim=(4,4), figsize=(10,10) ):\n",
    "    \n",
    "    noise = np.random.normal(0,1,size=[n_ex,100])\n",
    "    generated_images = generator.predict(noise)\n",
    "    \n",
    "    for i in range(generated_images.shape[0]):\n",
    "        #plt.subplot(dim[0],dim[1],i+1)\n",
    "        plt.subplot(dim[0],dim[1],i+1)\n",
    "        img = generated_images[i,:,:,0]\n",
    "        plt.imshow(img, cmap='gray')\n",
    "        plt.axis('off')\n",
    "    \n",
    "    plt.show()\n",
    "    image_fig.canvas.draw()\n"
   ]
  },
  {
   "cell_type": "code",
   "execution_count": 12,
   "metadata": {
    "collapsed": true
   },
   "outputs": [],
   "source": [
    "def pretrain_discriminator():\n",
    "    make_trainable(discriminator,True)\n",
    "\n",
    "    X, y = generate_discriminator_training_batch(30000)\n",
    "    \n",
    "    discriminator.fit(X, y, epochs=1, batch_size=250)\n"
   ]
  },
  {
   "cell_type": "code",
   "execution_count": 13,
   "metadata": {
    "collapsed": true
   },
   "outputs": [],
   "source": [
    "ntrain = 100\n",
    "\n",
    "def perform_discriminator_training_steps(n_steps=1):\n",
    "    make_trainable(discriminator,True)\n",
    "\n",
    "    X, y = generate_discriminator_training_batch(ntrain)\n",
    "\n",
    "    discriminator_history = 0\n",
    "\n",
    "    for _ in range(n_steps):\n",
    "        discriminator_history = discriminator.train_on_batch(X,y)\n",
    "\n",
    "    losses['d'].append(discriminator_history)\n",
    "\n",
    "    y_hat = discriminator.predict(X)\n",
    "\n",
    "    accuracy, n_right, n_total = calculate_discriminator_accuracy(X, y)\n",
    "\n",
    "    losses['accuracy'].append(accuracy)\n",
    "    "
   ]
  },
  {
   "cell_type": "code",
   "execution_count": 14,
   "metadata": {
    "collapsed": true
   },
   "outputs": [],
   "source": [
    "\n",
    "def generate_discriminator_training_batch(batch_size):\n",
    "    trainidx = random.sample(range(0,X_train.shape[0]), int(batch_size/2))\n",
    "    XT = X_train[trainidx,:,:,:]\n",
    "\n",
    "    noise_gen = np.random.normal(0,1,size=[int(batch_size/2),100])\n",
    "\n",
    "    generated_images = generator.predict(noise_gen)\n",
    "    X = np.concatenate((XT, generated_images))\n",
    "    n = XT.shape[0]\n",
    "    y = np.zeros([2*n,2])\n",
    "    y[:n,1] = 1\n",
    "    y[n:,0] = 1\n",
    "\n",
    "    X, y = shuffle(X, y)\n",
    "    \n",
    "    return X, y"
   ]
  },
  {
   "cell_type": "code",
   "execution_count": 15,
   "metadata": {
    "collapsed": true
   },
   "outputs": [],
   "source": [
    "def calculate_discriminator_accuracy(input_images, labels):\n",
    "    \n",
    "    def measure_accuracy(y, y_hat):\n",
    "        # Measure accuracy of pre-trained discriminator network\n",
    "        y_hat_idx = np.argmax(y_hat,axis=1)\n",
    "        y_idx = np.argmax(y,axis=1)\n",
    "        diff = y_idx-y_hat_idx\n",
    "        n_total = y.shape[0]\n",
    "        n_right = (diff==0).sum()\n",
    "        accuracy = n_right*100.0/n_total\n",
    "        return accuracy, n_right, n_total \n",
    "\n",
    "    \n",
    "    y_hat = discriminator.predict(input_images)\n",
    "\n",
    "    accuracy, n_right, n_total = measure_accuracy(labels, y_hat)\n",
    "    return accuracy, n_right, n_total\n"
   ]
  },
  {
   "cell_type": "code",
   "execution_count": 16,
   "metadata": {
    "collapsed": true,
    "scrolled": true
   },
   "outputs": [],
   "source": [
    " # train Generator-Discriminator stack on input noise to non-generated output class\n",
    "def perform_generator_training_steps(n_steps=1):\n",
    "    noise_tr = np.random.normal(0,1,size=[ntrain, 100])\n",
    "    y2 = np.zeros([ntrain,2])\n",
    "    y2[:,1] = 1\n",
    "\n",
    "    make_trainable(discriminator, False)\n",
    "\n",
    "    #GAN.layers[2].layers[6].trainable\n",
    "    #gan_history = GAN.fit(noise_tr, y2, epochs=10, shuffle=True )\n",
    "    gan_history = 0\n",
    "    for _ in range(n_steps):\n",
    "        gan_history = GAN.train_on_batch(noise_tr, y2)\n",
    "        \n",
    "    losses['g'].append(gan_history)\n"
   ]
  },
  {
   "cell_type": "code",
   "execution_count": null,
   "metadata": {
    "collapsed": true
   },
   "outputs": [],
   "source": [
    "initialise_generator()"
   ]
  },
  {
   "cell_type": "code",
   "execution_count": null,
   "metadata": {},
   "outputs": [],
   "source": [
    "pretrain_discriminator()"
   ]
  },
  {
   "cell_type": "code",
   "execution_count": 17,
   "metadata": {},
   "outputs": [
    {
     "ename": "ValueError",
     "evalue": "Error when checking target: expected dense_4 to have shape (None, 1) but got array with shape (100, 2)",
     "output_type": "error",
     "traceback": [
      "\u001b[1;31m---------------------------------------------------------------------------\u001b[0m",
      "\u001b[1;31mValueError\u001b[0m                                Traceback (most recent call last)",
      "\u001b[1;32m<ipython-input-17-51f325717503>\u001b[0m in \u001b[0;36m<module>\u001b[1;34m()\u001b[0m\n\u001b[1;32m----> 1\u001b[1;33m \u001b[0mperform_discriminator_training_steps\u001b[0m\u001b[1;33m(\u001b[0m\u001b[1;36m1\u001b[0m\u001b[1;33m)\u001b[0m\u001b[1;33m\u001b[0m\u001b[0m\n\u001b[0m",
      "\u001b[1;32m<ipython-input-13-93311a6d9d0e>\u001b[0m in \u001b[0;36mperform_discriminator_training_steps\u001b[1;34m(n_steps)\u001b[0m\n\u001b[0;32m      9\u001b[0m \u001b[1;33m\u001b[0m\u001b[0m\n\u001b[0;32m     10\u001b[0m     \u001b[1;32mfor\u001b[0m \u001b[0m_\u001b[0m \u001b[1;32min\u001b[0m \u001b[0mrange\u001b[0m\u001b[1;33m(\u001b[0m\u001b[0mn_steps\u001b[0m\u001b[1;33m)\u001b[0m\u001b[1;33m:\u001b[0m\u001b[1;33m\u001b[0m\u001b[0m\n\u001b[1;32m---> 11\u001b[1;33m         \u001b[0mdiscriminator_history\u001b[0m \u001b[1;33m=\u001b[0m \u001b[0mdiscriminator\u001b[0m\u001b[1;33m.\u001b[0m\u001b[0mtrain_on_batch\u001b[0m\u001b[1;33m(\u001b[0m\u001b[0mX\u001b[0m\u001b[1;33m,\u001b[0m\u001b[0my\u001b[0m\u001b[1;33m)\u001b[0m\u001b[1;33m\u001b[0m\u001b[0m\n\u001b[0m\u001b[0;32m     12\u001b[0m \u001b[1;33m\u001b[0m\u001b[0m\n\u001b[0;32m     13\u001b[0m     \u001b[0mlosses\u001b[0m\u001b[1;33m[\u001b[0m\u001b[1;34m'd'\u001b[0m\u001b[1;33m]\u001b[0m\u001b[1;33m.\u001b[0m\u001b[0mappend\u001b[0m\u001b[1;33m(\u001b[0m\u001b[0mdiscriminator_history\u001b[0m\u001b[1;33m)\u001b[0m\u001b[1;33m\u001b[0m\u001b[0m\n",
      "\u001b[1;32m~\\AppData\\Local\\conda\\conda\\envs\\tensorflow\\lib\\site-packages\\keras\\models.py\u001b[0m in \u001b[0;36mtrain_on_batch\u001b[1;34m(self, x, y, class_weight, sample_weight)\u001b[0m\n\u001b[0;32m    949\u001b[0m         return self.model.train_on_batch(x, y,\n\u001b[0;32m    950\u001b[0m                                          \u001b[0msample_weight\u001b[0m\u001b[1;33m=\u001b[0m\u001b[0msample_weight\u001b[0m\u001b[1;33m,\u001b[0m\u001b[1;33m\u001b[0m\u001b[0m\n\u001b[1;32m--> 951\u001b[1;33m                                          class_weight=class_weight)\n\u001b[0m\u001b[0;32m    952\u001b[0m \u001b[1;33m\u001b[0m\u001b[0m\n\u001b[0;32m    953\u001b[0m     def test_on_batch(self, x, y,\n",
      "\u001b[1;32m~\\AppData\\Local\\conda\\conda\\envs\\tensorflow\\lib\\site-packages\\keras\\engine\\training.py\u001b[0m in \u001b[0;36mtrain_on_batch\u001b[1;34m(self, x, y, sample_weight, class_weight)\u001b[0m\n\u001b[0;32m   1557\u001b[0m             \u001b[0msample_weight\u001b[0m\u001b[1;33m=\u001b[0m\u001b[0msample_weight\u001b[0m\u001b[1;33m,\u001b[0m\u001b[1;33m\u001b[0m\u001b[0m\n\u001b[0;32m   1558\u001b[0m             \u001b[0mclass_weight\u001b[0m\u001b[1;33m=\u001b[0m\u001b[0mclass_weight\u001b[0m\u001b[1;33m,\u001b[0m\u001b[1;33m\u001b[0m\u001b[0m\n\u001b[1;32m-> 1559\u001b[1;33m             check_batch_axis=True)\n\u001b[0m\u001b[0;32m   1560\u001b[0m         \u001b[1;32mif\u001b[0m \u001b[0mself\u001b[0m\u001b[1;33m.\u001b[0m\u001b[0muses_learning_phase\u001b[0m \u001b[1;32mand\u001b[0m \u001b[1;32mnot\u001b[0m \u001b[0misinstance\u001b[0m\u001b[1;33m(\u001b[0m\u001b[0mK\u001b[0m\u001b[1;33m.\u001b[0m\u001b[0mlearning_phase\u001b[0m\u001b[1;33m(\u001b[0m\u001b[1;33m)\u001b[0m\u001b[1;33m,\u001b[0m \u001b[0mint\u001b[0m\u001b[1;33m)\u001b[0m\u001b[1;33m:\u001b[0m\u001b[1;33m\u001b[0m\u001b[0m\n\u001b[0;32m   1561\u001b[0m             \u001b[0mins\u001b[0m \u001b[1;33m=\u001b[0m \u001b[0mx\u001b[0m \u001b[1;33m+\u001b[0m \u001b[0my\u001b[0m \u001b[1;33m+\u001b[0m \u001b[0msample_weights\u001b[0m \u001b[1;33m+\u001b[0m \u001b[1;33m[\u001b[0m\u001b[1;36m1.\u001b[0m\u001b[1;33m]\u001b[0m\u001b[1;33m\u001b[0m\u001b[0m\n",
      "\u001b[1;32m~\\AppData\\Local\\conda\\conda\\envs\\tensorflow\\lib\\site-packages\\keras\\engine\\training.py\u001b[0m in \u001b[0;36m_standardize_user_data\u001b[1;34m(self, x, y, sample_weight, class_weight, check_batch_axis, batch_size)\u001b[0m\n\u001b[0;32m   1236\u001b[0m                                     \u001b[0moutput_shapes\u001b[0m\u001b[1;33m,\u001b[0m\u001b[1;33m\u001b[0m\u001b[0m\n\u001b[0;32m   1237\u001b[0m                                     \u001b[0mcheck_batch_axis\u001b[0m\u001b[1;33m=\u001b[0m\u001b[1;32mFalse\u001b[0m\u001b[1;33m,\u001b[0m\u001b[1;33m\u001b[0m\u001b[0m\n\u001b[1;32m-> 1238\u001b[1;33m                                     exception_prefix='target')\n\u001b[0m\u001b[0;32m   1239\u001b[0m         sample_weights = _standardize_sample_weights(sample_weight,\n\u001b[0;32m   1240\u001b[0m                                                      self._feed_output_names)\n",
      "\u001b[1;32m~\\AppData\\Local\\conda\\conda\\envs\\tensorflow\\lib\\site-packages\\keras\\engine\\training.py\u001b[0m in \u001b[0;36m_standardize_input_data\u001b[1;34m(data, names, shapes, check_batch_axis, exception_prefix)\u001b[0m\n\u001b[0;32m    138\u001b[0m                             \u001b[1;34m' to have shape '\u001b[0m \u001b[1;33m+\u001b[0m \u001b[0mstr\u001b[0m\u001b[1;33m(\u001b[0m\u001b[0mshapes\u001b[0m\u001b[1;33m[\u001b[0m\u001b[0mi\u001b[0m\u001b[1;33m]\u001b[0m\u001b[1;33m)\u001b[0m \u001b[1;33m+\u001b[0m\u001b[1;33m\u001b[0m\u001b[0m\n\u001b[0;32m    139\u001b[0m                             \u001b[1;34m' but got array with shape '\u001b[0m \u001b[1;33m+\u001b[0m\u001b[1;33m\u001b[0m\u001b[0m\n\u001b[1;32m--> 140\u001b[1;33m                             str(array.shape))\n\u001b[0m\u001b[0;32m    141\u001b[0m     \u001b[1;32mreturn\u001b[0m \u001b[0marrays\u001b[0m\u001b[1;33m\u001b[0m\u001b[0m\n\u001b[0;32m    142\u001b[0m \u001b[1;33m\u001b[0m\u001b[0m\n",
      "\u001b[1;31mValueError\u001b[0m: Error when checking target: expected dense_4 to have shape (None, 1) but got array with shape (100, 2)"
     ]
    }
   ],
   "source": [
    "perform_discriminator_training_steps(1)"
   ]
  },
  {
   "cell_type": "code",
   "execution_count": null,
   "metadata": {},
   "outputs": [],
   "source": [
    "%matplotlib notebook\n",
    "fig, ax = plt.subplots(1, 1)\n",
    "\n",
    "image_fig, image_ax = plt.subplots(1, 1)\n",
    "\n",
    "for _ in range(100):\n",
    "    perform_discriminator_training_steps(1)\n",
    "    perform_generator_training_steps(1)\n",
    "\n",
    "    fig\n",
    "    plot_loss(losses)\n",
    "        \n",
    "    image_fig\n",
    "    plot_gen()"
   ]
  },
  {
   "cell_type": "code",
   "execution_count": null,
   "metadata": {
    "collapsed": true
   },
   "outputs": [],
   "source": [
    "GAN.predict(np.random.normal(0,1,size=[1,100]))"
   ]
  },
  {
   "cell_type": "code",
   "execution_count": null,
   "metadata": {
    "collapsed": true
   },
   "outputs": [],
   "source": [
    "discriminator.predict(np.array([X_train[0]]))"
   ]
  },
  {
   "cell_type": "code",
   "execution_count": null,
   "metadata": {
    "collapsed": true
   },
   "outputs": [],
   "source": [
    "def train_for_n(nb_epoch=5000, plt_frq=25,BATCH_SIZE=32):\n",
    "\n",
    "    for e in tqdm(range(nb_epoch)):  \n",
    "        \n",
    "        # Make generative images\n",
    "        image_batch = X_train[np.random.randint(0,X_train.shape[0],size=BATCH_SIZE),:,:,:]    \n",
    "        noise_gen = np.random.uniform(0,1,size=[BATCH_SIZE,100])\n",
    "        generated_images = generator.predict(noise_gen)\n",
    "        \n",
    "        # Train discriminator on generated images\n",
    "        X = np.concatenate((image_batch, generated_images))\n",
    "        y = np.zeros([2*BATCH_SIZE,2])\n",
    "        y[0:BATCH_SIZE,1] = 1\n",
    "        y[BATCH_SIZE:,0] = 1\n",
    "        \n",
    "        make_trainable(discriminator,True)\n",
    "        discriminator_history = discriminator.fit(X,y, epochs=1, shuffle=True)\n",
    "        \n",
    "        # train Generator-Discriminator stack on input noise to non-generated output class\n",
    "        noise_tr = np.random.uniform(0,1,size=[BATCH_SIZE,100])\n",
    "        y2 = np.zeros([BATCH_SIZE,2])\n",
    "        y2[:,1] = 1\n",
    "        \n",
    "        make_trainable(discriminator,False)\n",
    "        gan_history = GAN.fit(noise_tr, y2, epochs=1, shuffle=True )\n",
    "        \n",
    "        print('discriminator: ', discriminator_history.history)\n",
    "        print('gan: ', gan_history.history)\n",
    "        \n",
    "        # Updates plots\n",
    "        if e%plt_frq==plt_frq-1:\n",
    "            #print(d_loss, ' ' , g_loss)\n",
    "            plot_loss(losses)\n",
    "            plot_gen()\n"
   ]
  },
  {
   "cell_type": "code",
   "execution_count": null,
   "metadata": {
    "collapsed": true
   },
   "outputs": [],
   "source": [
    "X_train.shape\n",
    "im= generator.predict(np.random.normal(0,1,size=[1,100]))\n",
    "im.shape\n",
    "print(np.argmax(discriminator.predict(np.array([im[0]]))))\n",
    "\n",
    "print(np.argmax(discriminator.predict(np.array([X_train[0]]))))"
   ]
  },
  {
   "cell_type": "code",
   "execution_count": null,
   "metadata": {
    "collapsed": true
   },
   "outputs": [],
   "source": [
    "# Train for 6000 epochs at original learning rates\n",
    "train_for_n(nb_epoch=6000, plt_frq=50,BATCH_SIZE=32)"
   ]
  },
  {
   "cell_type": "code",
   "execution_count": null,
   "metadata": {
    "collapsed": true
   },
   "outputs": [],
   "source": [
    "# Train for 2000 epochs at reduced learning rates\n",
    "opt.lr.value = 1e-5\n",
    "dopt.lr.value = 1e-4\n",
    "train_for_n(nb_epoch=2000, plt_frq=500,BATCH_SIZE=32)\n"
   ]
  },
  {
   "cell_type": "code",
   "execution_count": null,
   "metadata": {
    "collapsed": true
   },
   "outputs": [],
   "source": [
    "opt.lr.value=1e-6\n",
    "dopt.lr.value=1e-5\n",
    "train_for_n(nb_epoch=2000, plt_frq=500,BATCH_SIZE=32)"
   ]
  },
  {
   "cell_type": "code",
   "execution_count": null,
   "metadata": {
    "collapsed": true
   },
   "outputs": [],
   "source": [
    "#plot_loss(losses)\n",
    "\n",
    "# Plot some generated images from our GAN\n",
    "plot_gen(25,(5,5),(12,12))"
   ]
  },
  {
   "cell_type": "code",
   "execution_count": null,
   "metadata": {
    "collapsed": true
   },
   "outputs": [],
   "source": [
    "def plot_real(n_ex=16,dim=(4,4), figsize=(10,10) ):\n",
    "    \n",
    "    idx = np.random.randint(0,X_train.shape[0],n_ex)\n",
    "    generated_images = X_train[idx,:,:,:]\n",
    "\n",
    "    plt.figure(figsize=figsize)\n",
    "    for i in range(generated_images.shape[0]):\n",
    "        plt.subplot(dim[0],dim[1],i+1)\n",
    "        img = generated_images[i,:,:,0]\n",
    "        plt.imshow(img)\n",
    "        plt.axis('off')\n",
    "    plt.tight_layout()\n",
    "    plt.show()\n",
    "\n",
    "# Plot real MNIST images for comparison\n",
    "plot_real()"
   ]
  },
  {
   "cell_type": "code",
   "execution_count": null,
   "metadata": {
    "collapsed": true
   },
   "outputs": [],
   "source": [
    "import time\n",
    "\n",
    "fig,ax = plt.subplots(1,1)\n",
    "fig.show()\n",
    "\n",
    "\n",
    "for i in range(5):\n",
    "    if ax.lines:\n",
    "        for line in ax.lines:\n",
    "            line.set_xdata(x)\n",
    "            line.set_ydata(np.random.random(size=(100,1)))\n",
    "    else:\n",
    "        x = np.linspace(0,1,100)\n",
    "        y = np.random.random(size=(100,1))\n",
    "        ax.plot(x, y)\n",
    "    fig.canvas.draw()\n",
    "    time.sleep(1)\n",
    "    print(i)"
   ]
  },
  {
   "cell_type": "code",
   "execution_count": null,
   "metadata": {
    "collapsed": true
   },
   "outputs": [],
   "source": [
    "%matplotlib notebook\n"
   ]
  }
 ],
 "metadata": {
  "kernelspec": {
   "display_name": "Python 3",
   "language": "python",
   "name": "python3"
  },
  "language_info": {
   "codemirror_mode": {
    "name": "ipython",
    "version": 3
   },
   "file_extension": ".py",
   "mimetype": "text/x-python",
   "name": "python",
   "nbconvert_exporter": "python",
   "pygments_lexer": "ipython3",
   "version": "3.5.3"
  }
 },
 "nbformat": 4,
 "nbformat_minor": 2
}
